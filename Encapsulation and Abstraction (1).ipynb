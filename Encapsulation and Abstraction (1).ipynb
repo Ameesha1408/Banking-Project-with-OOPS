{
 "cells": [
  {
   "cell_type": "markdown",
   "id": "90966f09-93b6-45f2-96a3-43cb19bd896e",
   "metadata": {},
   "source": [
    "# Encapuslation"
   ]
  },
  {
   "cell_type": "code",
   "execution_count": 32,
   "id": "70891145-b641-4c93-88af-3b1dce81892f",
   "metadata": {},
   "outputs": [],
   "source": [
    "class Bank:\n",
    "    Bank_name = 'HDFC '  #Public Access Modifier\n",
    "    _branch = 'DilsukhNagar'  #Protected\n",
    "    __HDFC_Balance = 10000000000 #Private Aceess Modifer\n",
    "    def fetch_bal(self):\n",
    "        print(self.__HDFC_Balance)\n",
    "\n",
    "class Customer(Bank):\n",
    "    balance = 10000\n",
    "    def get_balance(self):\n",
    "        print(self.balance)"
   ]
  },
  {
   "cell_type": "code",
   "execution_count": 26,
   "id": "ed1c5a75-db68-450b-8fa0-538b5c01fbec",
   "metadata": {},
   "outputs": [],
   "source": [
    "employee = Bank()"
   ]
  },
  {
   "cell_type": "code",
   "execution_count": 20,
   "id": "3704fd84-4d57-4dff-bc6b-20fea75d7a17",
   "metadata": {},
   "outputs": [
    {
     "name": "stdout",
     "output_type": "stream",
     "text": [
      "10000000000\n"
     ]
    }
   ],
   "source": [
    "employee.fetch_bal()"
   ]
  },
  {
   "cell_type": "code",
   "execution_count": 27,
   "id": "449847cb-656b-4530-8fef-3bed74fc1da3",
   "metadata": {},
   "outputs": [],
   "source": [
    "cus1 = Customer()"
   ]
  },
  {
   "cell_type": "code",
   "execution_count": 22,
   "id": "f5cb0434-1848-4cb9-b150-66f802f0f0b4",
   "metadata": {},
   "outputs": [
    {
     "name": "stdout",
     "output_type": "stream",
     "text": [
      "10000\n"
     ]
    }
   ],
   "source": [
    " cus1.get_balance()"
   ]
  },
  {
   "cell_type": "code",
   "execution_count": 23,
   "id": "0496d88d-3f74-4fd2-a163-efb544f35459",
   "metadata": {},
   "outputs": [
    {
     "data": {
      "text/plain": [
       "10000"
      ]
     },
     "execution_count": 23,
     "metadata": {},
     "output_type": "execute_result"
    }
   ],
   "source": [
    "cus1.balance"
   ]
  },
  {
   "cell_type": "code",
   "execution_count": 24,
   "id": "0804ea18-b4fe-47e6-9183-7a915311d072",
   "metadata": {},
   "outputs": [
    {
     "name": "stdout",
     "output_type": "stream",
     "text": [
      "10000\n"
     ]
    }
   ],
   "source": [
    "cus1.get_balance()"
   ]
  },
  {
   "cell_type": "code",
   "execution_count": 28,
   "id": "b842d60e-35df-4926-ab52-e14f1ab8000d",
   "metadata": {},
   "outputs": [],
   "source": [
    "b1 = Bank()"
   ]
  },
  {
   "cell_type": "code",
   "execution_count": 29,
   "id": "d42cc6de-1e4d-4813-9b39-acc45f0c6847",
   "metadata": {},
   "outputs": [
    {
     "data": {
      "text/plain": [
       "'HDFC '"
      ]
     },
     "execution_count": 29,
     "metadata": {},
     "output_type": "execute_result"
    }
   ],
   "source": [
    "b1.Bank_name"
   ]
  },
  {
   "cell_type": "code",
   "execution_count": 31,
   "id": "54cf8262-5bed-4784-a469-912b2aebf955",
   "metadata": {},
   "outputs": [
    {
     "data": {
      "text/plain": [
       "'DilsukhNagar'"
      ]
     },
     "execution_count": 31,
     "metadata": {},
     "output_type": "execute_result"
    }
   ],
   "source": [
    "b1.branch"
   ]
  },
  {
   "cell_type": "code",
   "execution_count": null,
   "id": "f60e8123-da67-4a38-842a-e6d119489a4a",
   "metadata": {},
   "outputs": [],
   "source": []
  },
  {
   "cell_type": "code",
   "execution_count": 13,
   "id": "1a47c083-0dca-4413-b993-87c347f7ca15",
   "metadata": {},
   "outputs": [],
   "source": [
    "c =Customer()"
   ]
  },
  {
   "cell_type": "code",
   "execution_count": 14,
   "id": "8c596f0b-ddbc-4993-b3ea-3a99c9a74e80",
   "metadata": {},
   "outputs": [
    {
     "data": {
      "text/plain": [
       "'HDFC '"
      ]
     },
     "execution_count": 14,
     "metadata": {},
     "output_type": "execute_result"
    }
   ],
   "source": [
    "c._Bank_name"
   ]
  },
  {
   "cell_type": "code",
   "execution_count": 15,
   "id": "73b5616e-dbfc-48e8-ad7f-6ccf1c61ea37",
   "metadata": {},
   "outputs": [
    {
     "data": {
      "text/plain": [
       "'DilsukhNagar'"
      ]
     },
     "execution_count": 15,
     "metadata": {},
     "output_type": "execute_result"
    }
   ],
   "source": [
    "c._branch"
   ]
  },
  {
   "cell_type": "code",
   "execution_count": 17,
   "id": "13210757-dd85-4a53-b3c8-7dc3375ab946",
   "metadata": {},
   "outputs": [
    {
     "ename": "AttributeError",
     "evalue": "'Customer' object has no attribute '__HDFC_Balance'",
     "output_type": "error",
     "traceback": [
      "\u001b[1;31m---------------------------------------------------------------------------\u001b[0m",
      "\u001b[1;31mAttributeError\u001b[0m                            Traceback (most recent call last)",
      "Cell \u001b[1;32mIn[17], line 1\u001b[0m\n\u001b[1;32m----> 1\u001b[0m c\u001b[38;5;241m.\u001b[39m__HDFC_Balance\n",
      "\u001b[1;31mAttributeError\u001b[0m: 'Customer' object has no attribute '__HDFC_Balance'"
     ]
    }
   ],
   "source": [
    "c.__HDFC_Balance"
   ]
  },
  {
   "cell_type": "code",
   "execution_count": null,
   "id": "02498c5b-a2fd-4410-b530-b7bfe671aa7b",
   "metadata": {},
   "outputs": [],
   "source": []
  },
  {
   "cell_type": "code",
   "execution_count": null,
   "id": "eeb5f0d1-7a31-46f5-be20-1e2547968720",
   "metadata": {},
   "outputs": [],
   "source": []
  },
  {
   "cell_type": "code",
   "execution_count": null,
   "id": "70c8dfbc-7515-4efe-8fe9-9b8a674112b1",
   "metadata": {},
   "outputs": [],
   "source": []
  },
  {
   "cell_type": "code",
   "execution_count": 5,
   "id": "183e107c-5aa4-450f-964b-8dfa78d8fa2b",
   "metadata": {},
   "outputs": [
    {
     "ename": "AttributeError",
     "evalue": "'Customer' object has no attribute '__Bank_Balance'",
     "output_type": "error",
     "traceback": [
      "\u001b[1;31m---------------------------------------------------------------------------\u001b[0m",
      "\u001b[1;31mAttributeError\u001b[0m                            Traceback (most recent call last)",
      "Cell \u001b[1;32mIn[5], line 1\u001b[0m\n\u001b[1;32m----> 1\u001b[0m c\u001b[38;5;241m.\u001b[39m__Bank_Balance\n",
      "\u001b[1;31mAttributeError\u001b[0m: 'Customer' object has no attribute '__Bank_Balance'"
     ]
    }
   ],
   "source": [
    "c.__Bank_Balance"
   ]
  },
  {
   "cell_type": "code",
   "execution_count": 9,
   "id": "a1afa58c-2977-4b53-b8e9-061df4984f57",
   "metadata": {},
   "outputs": [],
   "source": [
    "b = Bank()"
   ]
  },
  {
   "cell_type": "code",
   "execution_count": 10,
   "id": "b8d3ccfa-6e87-4585-b948-9a97b0d31050",
   "metadata": {},
   "outputs": [
    {
     "name": "stdout",
     "output_type": "stream",
     "text": [
      "10000000000\n"
     ]
    }
   ],
   "source": [
    "b.fetch_bal()"
   ]
  },
  {
   "cell_type": "code",
   "execution_count": 33,
   "id": "7c5cea5b-eed5-4700-b29c-c1f38b518f27",
   "metadata": {},
   "outputs": [],
   "source": [
    "class Innomatics:\n",
    "    __password = 'Hello@123'\n",
    "   \n",
    "class student(Innomatics):\n",
    "    student_password = 'Arjun@154'\n",
    "    def fetch_innomatics_password(self):\n",
    "        print(self.__password)\n",
    "    def fetch_my_password(self):\n",
    "        print(self.student_password)"
   ]
  },
  {
   "cell_type": "code",
   "execution_count": 34,
   "id": "08040c17-17a3-4ac4-9622-b1e539b0a9c9",
   "metadata": {},
   "outputs": [],
   "source": [
    "st = student()"
   ]
  },
  {
   "cell_type": "code",
   "execution_count": 35,
   "id": "37638423-aa09-40dd-9efc-2556560c42a3",
   "metadata": {},
   "outputs": [
    {
     "data": {
      "text/plain": [
       "'Arjun@154'"
      ]
     },
     "execution_count": 35,
     "metadata": {},
     "output_type": "execute_result"
    }
   ],
   "source": [
    "st.student_password"
   ]
  },
  {
   "cell_type": "code",
   "execution_count": 37,
   "id": "d77c3f02-e6a4-4af2-bc55-15efd08b5d9f",
   "metadata": {},
   "outputs": [
    {
     "name": "stdout",
     "output_type": "stream",
     "text": [
      "Arjun@154\n"
     ]
    }
   ],
   "source": [
    "st.fetch_my_password()"
   ]
  },
  {
   "cell_type": "code",
   "execution_count": 38,
   "id": "819c605a-64ad-4bb9-9323-9828dcc99b56",
   "metadata": {},
   "outputs": [
    {
     "ename": "AttributeError",
     "evalue": "'student' object has no attribute '_student__password'",
     "output_type": "error",
     "traceback": [
      "\u001b[1;31m---------------------------------------------------------------------------\u001b[0m",
      "\u001b[1;31mAttributeError\u001b[0m                            Traceback (most recent call last)",
      "Cell \u001b[1;32mIn[38], line 1\u001b[0m\n\u001b[1;32m----> 1\u001b[0m st\u001b[38;5;241m.\u001b[39mfetch_innomatics_password()\n",
      "Cell \u001b[1;32mIn[33], line 7\u001b[0m, in \u001b[0;36mstudent.fetch_innomatics_password\u001b[1;34m(self)\u001b[0m\n\u001b[0;32m      6\u001b[0m \u001b[38;5;28;01mdef\u001b[39;00m\u001b[38;5;250m \u001b[39m\u001b[38;5;21mfetch_innomatics_password\u001b[39m(\u001b[38;5;28mself\u001b[39m):\n\u001b[1;32m----> 7\u001b[0m     \u001b[38;5;28mprint\u001b[39m(\u001b[38;5;28mself\u001b[39m\u001b[38;5;241m.\u001b[39m__password)\n",
      "\u001b[1;31mAttributeError\u001b[0m: 'student' object has no attribute '_student__password'"
     ]
    }
   ],
   "source": [
    "st.fetch_innomatics_password()"
   ]
  },
  {
   "cell_type": "code",
   "execution_count": 39,
   "id": "357ed8a1-80c5-465a-9e0c-80e7c9d9ba71",
   "metadata": {},
   "outputs": [],
   "source": [
    "class Innomatics:\n",
    "    __password = 'Hello@123'\n",
    "   \n",
    "class student(Innomatics):\n",
    "    __student_password = 'Arjun@154'\n",
    "    def fetch_innomatics_password(self):\n",
    "        print(self.__password)\n",
    "    def fetch_my_password(self):\n",
    "        print(self.student_password)"
   ]
  },
  {
   "cell_type": "code",
   "execution_count": 40,
   "id": "ab3a52cd-b1c3-4d25-a25f-ea497df26769",
   "metadata": {},
   "outputs": [],
   "source": [
    "st = student()"
   ]
  },
  {
   "cell_type": "code",
   "execution_count": 41,
   "id": "9e60e3cb-1d22-408d-a24f-2f587c4e81e6",
   "metadata": {},
   "outputs": [
    {
     "ename": "AttributeError",
     "evalue": "'student' object has no attribute 'student_password'",
     "output_type": "error",
     "traceback": [
      "\u001b[1;31m---------------------------------------------------------------------------\u001b[0m",
      "\u001b[1;31mAttributeError\u001b[0m                            Traceback (most recent call last)",
      "Cell \u001b[1;32mIn[41], line 1\u001b[0m\n\u001b[1;32m----> 1\u001b[0m st\u001b[38;5;241m.\u001b[39mfetch_my_password()\n",
      "Cell \u001b[1;32mIn[39], line 9\u001b[0m, in \u001b[0;36mstudent.fetch_my_password\u001b[1;34m(self)\u001b[0m\n\u001b[0;32m      8\u001b[0m \u001b[38;5;28;01mdef\u001b[39;00m\u001b[38;5;250m \u001b[39m\u001b[38;5;21mfetch_my_password\u001b[39m(\u001b[38;5;28mself\u001b[39m):\n\u001b[1;32m----> 9\u001b[0m     \u001b[38;5;28mprint\u001b[39m(\u001b[38;5;28mself\u001b[39m\u001b[38;5;241m.\u001b[39mstudent_password)\n",
      "\u001b[1;31mAttributeError\u001b[0m: 'student' object has no attribute 'student_password'"
     ]
    }
   ],
   "source": [
    "st.fetch_my_password()"
   ]
  },
  {
   "cell_type": "code",
   "execution_count": 60,
   "id": "eceb5b97-1914-42b2-ba33-6f849ca3fc3e",
   "metadata": {},
   "outputs": [],
   "source": [
    "In = Innomatics()"
   ]
  },
  {
   "cell_type": "code",
   "execution_count": 61,
   "id": "4e3bd8ad-d519-494b-ab8a-25e79c275f53",
   "metadata": {},
   "outputs": [
    {
     "name": "stdout",
     "output_type": "stream",
     "text": [
      "Hello@123\n"
     ]
    }
   ],
   "source": [
    "In.fetch()"
   ]
  },
  {
   "cell_type": "code",
   "execution_count": 62,
   "id": "f871986f-e74a-4f13-8436-8a1d045ca23f",
   "metadata": {},
   "outputs": [
    {
     "name": "stdout",
     "output_type": "stream",
     "text": [
      "Hello@123\n"
     ]
    }
   ],
   "source": [
    "st.fetch()"
   ]
  },
  {
   "cell_type": "code",
   "execution_count": 72,
   "id": "108936f3-62fb-4148-846f-e31609239244",
   "metadata": {},
   "outputs": [],
   "source": [
    "class Sample:\n",
    "    _a = 100\n",
    "    __b = 200\n",
    "    __c_ = 300\n",
    "    ___d__ = 400\n",
    "    __e = 500"
   ]
  },
  {
   "cell_type": "code",
   "execution_count": 73,
   "id": "3939ade2-82d7-49d3-88bc-98506431920a",
   "metadata": {},
   "outputs": [
    {
     "data": {
      "text/plain": [
       "['_Sample__b',\n",
       " '_Sample__c_',\n",
       " '_Sample__e',\n",
       " '___d__',\n",
       " '__class__',\n",
       " '__delattr__',\n",
       " '__dict__',\n",
       " '__dir__',\n",
       " '__doc__',\n",
       " '__eq__',\n",
       " '__format__',\n",
       " '__ge__',\n",
       " '__getattribute__',\n",
       " '__getstate__',\n",
       " '__gt__',\n",
       " '__hash__',\n",
       " '__init__',\n",
       " '__init_subclass__',\n",
       " '__le__',\n",
       " '__lt__',\n",
       " '__module__',\n",
       " '__ne__',\n",
       " '__new__',\n",
       " '__reduce__',\n",
       " '__reduce_ex__',\n",
       " '__repr__',\n",
       " '__setattr__',\n",
       " '__sizeof__',\n",
       " '__str__',\n",
       " '__subclasshook__',\n",
       " '__weakref__',\n",
       " '_a']"
      ]
     },
     "execution_count": 73,
     "metadata": {},
     "output_type": "execute_result"
    }
   ],
   "source": [
    "dir(Sample)"
   ]
  },
  {
   "cell_type": "code",
   "execution_count": 42,
   "id": "e8f4e48f-792b-4c81-8e10-a136070a50be",
   "metadata": {},
   "outputs": [],
   "source": [
    "class Innomatics:\n",
    "    __password = 'Hello@123'\n",
    "   \n",
    "class student(Innomatics):\n",
    "    student_password = 'Arjun@154'\n",
    "    def fetch_innomatics_password(self):\n",
    "        print(self._Innomatics__password) #Name Is Mangled\n",
    "    def fetch_my_password(self):\n",
    "        print(self.student_password)"
   ]
  },
  {
   "cell_type": "code",
   "execution_count": null,
   "id": "b601214c-0372-4830-b950-273329377a04",
   "metadata": {},
   "outputs": [],
   "source": []
  },
  {
   "cell_type": "code",
   "execution_count": 43,
   "id": "359f22fb-7147-4303-aedf-6811683d18d9",
   "metadata": {},
   "outputs": [],
   "source": [
    "st  =student()"
   ]
  },
  {
   "cell_type": "code",
   "execution_count": 44,
   "id": "b195e0f6-3535-4caa-b423-8ad78d3424dd",
   "metadata": {},
   "outputs": [
    {
     "name": "stdout",
     "output_type": "stream",
     "text": [
      "Hello@123\n"
     ]
    }
   ],
   "source": [
    "st.fetch_innomatics_password()"
   ]
  },
  {
   "cell_type": "markdown",
   "id": "e8f3bfea-4847-4e3a-affe-1b0e8e10c647",
   "metadata": {},
   "source": [
    "# Abstraction"
   ]
  },
  {
   "cell_type": "code",
   "execution_count": 46,
   "id": "067984ef-d003-4ffc-9a19-535ab7694097",
   "metadata": {},
   "outputs": [],
   "source": [
    "from abc import ABC,abstractmethod"
   ]
  },
  {
   "cell_type": "code",
   "execution_count": 48,
   "id": "88f4ddbc-a75b-4b88-9223-9ff8137e303c",
   "metadata": {},
   "outputs": [],
   "source": [
    "class HDFC(ABC):\n",
    "    __bal = 100000\n",
    "    \n",
    "    @abstractmethod\n",
    "    def Checking_Password(self):\n",
    "        print(\"Your PassWord is getting checked\")\n",
    "        \n",
    "    @abstractmethod  \n",
    "    def Connecting_DataBase(self):\n",
    "        print(\"Connecting to The DataBase\")\n",
    "\n",
    "\n",
    "class Customer(HDFC):\n",
    "\n",
    "    def Checking_Password(self):\n",
    "        HDFC.Checking_Password(self)\n",
    "   \n",
    "    def Connecting_DataBase(self):\n",
    "        HDFC.Connecting_DataBase(self)\n",
    "       \n",
    "    def with_draw(self):\n",
    "        print(\"Collect the Money\")"
   ]
  },
  {
   "cell_type": "code",
   "execution_count": 49,
   "id": "e9751ca6-120e-4157-94af-70fb474647de",
   "metadata": {},
   "outputs": [
    {
     "ename": "TypeError",
     "evalue": "Can't instantiate abstract class HDFC without an implementation for abstract methods 'Checking_Password', 'Connecting_DataBase'",
     "output_type": "error",
     "traceback": [
      "\u001b[1;31m---------------------------------------------------------------------------\u001b[0m",
      "\u001b[1;31mTypeError\u001b[0m                                 Traceback (most recent call last)",
      "Cell \u001b[1;32mIn[49], line 1\u001b[0m\n\u001b[1;32m----> 1\u001b[0m a \u001b[38;5;241m=\u001b[39m HDFC()\n",
      "\u001b[1;31mTypeError\u001b[0m: Can't instantiate abstract class HDFC without an implementation for abstract methods 'Checking_Password', 'Connecting_DataBase'"
     ]
    }
   ],
   "source": [
    "a = HDFC()"
   ]
  },
  {
   "cell_type": "code",
   "execution_count": 5,
   "id": "a1c8454f-aa55-4532-b3f3-168fca2fdba4",
   "metadata": {},
   "outputs": [
    {
     "ename": "TypeError",
     "evalue": "Can't instantiate abstract class Customer without an implementation for abstract methods 'Checking_Password', 'Connecting_DataBase'",
     "output_type": "error",
     "traceback": [
      "\u001b[1;31m---------------------------------------------------------------------------\u001b[0m",
      "\u001b[1;31mTypeError\u001b[0m                                 Traceback (most recent call last)",
      "Cell \u001b[1;32mIn[5], line 1\u001b[0m\n\u001b[1;32m----> 1\u001b[0m d \u001b[38;5;241m=\u001b[39m Customer()\n",
      "\u001b[1;31mTypeError\u001b[0m: Can't instantiate abstract class Customer without an implementation for abstract methods 'Checking_Password', 'Connecting_DataBase'"
     ]
    }
   ],
   "source": [
    "d = Customer()"
   ]
  },
  {
   "cell_type": "code",
   "execution_count": 6,
   "id": "fffbb9e4-33bf-49ba-8c66-dde8d678b925",
   "metadata": {},
   "outputs": [
    {
     "ename": "NameError",
     "evalue": "name 'd' is not defined",
     "output_type": "error",
     "traceback": [
      "\u001b[1;31m---------------------------------------------------------------------------\u001b[0m",
      "\u001b[1;31mNameError\u001b[0m                                 Traceback (most recent call last)",
      "Cell \u001b[1;32mIn[6], line 1\u001b[0m\n\u001b[1;32m----> 1\u001b[0m d\u001b[38;5;241m.\u001b[39mwith_draw()\n",
      "\u001b[1;31mNameError\u001b[0m: name 'd' is not defined"
     ]
    }
   ],
   "source": [
    "d.with_draw()"
   ]
  },
  {
   "cell_type": "code",
   "execution_count": 103,
   "id": "426458ed-f850-4d14-b7bd-fb6ae9e7e08e",
   "metadata": {},
   "outputs": [
    {
     "name": "stdout",
     "output_type": "stream",
     "text": [
      "Your PassWord is getting checked\n"
     ]
    }
   ],
   "source": [
    "c.Checking_Password()"
   ]
  },
  {
   "cell_type": "code",
   "execution_count": 104,
   "id": "a17386f0-a6ad-496f-8732-06483766fd37",
   "metadata": {},
   "outputs": [
    {
     "name": "stdout",
     "output_type": "stream",
     "text": [
      "Connecting to The DataBase\n"
     ]
    }
   ],
   "source": [
    "c.Connecting_DataBase()"
   ]
  },
  {
   "cell_type": "code",
   "execution_count": null,
   "id": "2c9edf8c-34f4-4a95-b315-54de685afaa4",
   "metadata": {},
   "outputs": [],
   "source": []
  }
 ],
 "metadata": {
  "kernelspec": {
   "display_name": "Python [conda env:Anaconda]",
   "language": "python",
   "name": "conda-env-Anaconda-py"
  },
  "language_info": {
   "codemirror_mode": {
    "name": "ipython",
    "version": 3
   },
   "file_extension": ".py",
   "mimetype": "text/x-python",
   "name": "python",
   "nbconvert_exporter": "python",
   "pygments_lexer": "ipython3",
   "version": "3.13.5"
  }
 },
 "nbformat": 4,
 "nbformat_minor": 5
}
