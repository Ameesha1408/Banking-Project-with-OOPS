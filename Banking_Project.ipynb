{
 "cells": [
  {
   "cell_type": "code",
   "execution_count": 2,
   "id": "f04c1371-0119-49a3-8dad-cd2b00f93301",
   "metadata": {},
   "outputs": [],
   "source": [
    "\n",
    "class BankAccount:\n",
    "    def __init__(self,acc_no,holder_name,balance=0):\n",
    "        self.acc_no = acc_no\n",
    "        self.holder_name = holder_name\n",
    "        self.__balance = balance\n",
    "\n",
    "    def deposit(self,amount):\n",
    "        if amount > 0:\n",
    "            self.__balance += amount\n",
    "            print(f'Deposited{amount}.New Balance = {self.__balance}') \n",
    "        else:\n",
    "            print('Invalid deposit amount') \n",
    "\n",
    "    def withdraw(self,amount):\n",
    "        if 0 < amount <= self.__balance:\n",
    "            self.__balance -= amount\n",
    "            print(f\"Withdrawn {amount}. New Balance = {self.__balance}\") \n",
    "        else: \n",
    "            print(\"Insufficient balance or invalid amount\") \n",
    "   \n",
    "    def get_balance(self): \n",
    "        return self.__balance \n",
    "   \n",
    "    def get_account_number(self): \n",
    "        return self.acc_no\n",
    "\n",
    "\n",
    "\n",
    "\n",
    "class SavingsAccount(BankAccount): \n",
    "    def __init__(self,acc_no,holder_name,balance=0,interest_rate=0.05): \n",
    "        super().__init__(acc_no, holder_name, balance) \n",
    "        self.interest_rate = interest_rate \n",
    "\n",
    "    def add_interest(self): \n",
    "        interest = self.get_balance() * self.interest_rate \n",
    "        self.deposit(interest) \n",
    "        print(f\"Interest {interest} added.\") \n",
    "\n",
    "class CurrentAccount(BankAccount): \n",
    "    def __init__(self,acc_no,holder_name,balance=0,overdraft_limit=5000): \n",
    "        super().__init__(acc_no, holder_name, balance) \n",
    "        self.overdraft_limit = overdraft_limit \n",
    "    def withdraw(self,amount): \n",
    "        if amount <= self.get_balance() + self.overdraft_limit: \n",
    "            self.deposit(-amount) \n",
    "            print(f\"Withdrawn {amount} using overdraft facility.\") \n",
    "        else: \n",
    "            print(\"Overdraft limit exceeded.\")\n",
    "\n",
    "\n",
    "\n",
    "        "
   ]
  },
  {
   "cell_type": "markdown",
   "id": "df7d3652-6427-4c6d-8513-78a1fcb8a25f",
   "metadata": {},
   "source": [
    "## Q1. Create a SavingsAccount object for Ravi and deposit 2000. What is his new balance? \n",
    "- Hint: Use the deposit() method and then check balance using get_balance()."
   ]
  },
  {
   "cell_type": "code",
   "execution_count": 3,
   "id": "f5d0a16b-e075-40ea-8c06-6d5ed98d5c2c",
   "metadata": {},
   "outputs": [],
   "source": [
    "s1 = SavingsAccount(111,'Ravi')"
   ]
  },
  {
   "cell_type": "code",
   "execution_count": 4,
   "id": "fccc3b7d-275d-4b7b-9543-c84d2353bee2",
   "metadata": {},
   "outputs": [
    {
     "name": "stdout",
     "output_type": "stream",
     "text": [
      "Deposited2000.New Balance = 2000\n"
     ]
    }
   ],
   "source": [
    "s1.deposit(2000)"
   ]
  },
  {
   "cell_type": "code",
   "execution_count": 5,
   "id": "40b688aa-149b-4cf0-b4b1-e4537feb07a5",
   "metadata": {},
   "outputs": [
    {
     "data": {
      "text/plain": [
       "2000"
      ]
     },
     "execution_count": 5,
     "metadata": {},
     "output_type": "execute_result"
    }
   ],
   "source": [
    "s1.get_balance()"
   ]
  },
  {
   "cell_type": "markdown",
   "id": "4121ffb0-d100-440b-ae57-ffe22747e6b3",
   "metadata": {},
   "source": [
    "## Q2. Try to withdraw 10000 from Sneha’s SavingsAccount which only has 5000. What happens? \n",
    "- Hint: Savings accounts do not allow overdrafts. Look at how withdraw() is \n",
    "implemented in BankAccount. "
   ]
  },
  {
   "cell_type": "code",
   "execution_count": 19,
   "id": "3077f22f-fad7-438c-bcb9-35ee6c8c2bff",
   "metadata": {},
   "outputs": [],
   "source": [
    "s2 = SavingsAccount(123,'Sneha',5000)"
   ]
  },
  {
   "cell_type": "code",
   "execution_count": 20,
   "id": "79500e65-cebe-43be-988d-415c7162502c",
   "metadata": {},
   "outputs": [
    {
     "data": {
      "text/plain": [
       "5000"
      ]
     },
     "execution_count": 20,
     "metadata": {},
     "output_type": "execute_result"
    }
   ],
   "source": [
    "s2.get_balance()"
   ]
  },
  {
   "cell_type": "code",
   "execution_count": 22,
   "id": "6b227806-d50e-4870-b79b-92f84d7b79bd",
   "metadata": {},
   "outputs": [
    {
     "name": "stdout",
     "output_type": "stream",
     "text": [
      "Insufficient balance or invalid amount\n"
     ]
    }
   ],
   "source": [
    "s2.withdraw(10000)"
   ]
  },
  {
   "cell_type": "markdown",
   "id": "9195051a-ec48-4d54-a5f2-61cf1fbc6e6a",
   "metadata": {},
   "source": [
    "## Q3. Add interest to Arjun’s SavingsAccount with balance 10000. What will be his new balance? \n",
    "- Hint: Use the add_interest() method. Interest rate is 5% of the current balance."
   ]
  },
  {
   "cell_type": "code",
   "execution_count": 26,
   "id": "d49a88e0-7249-4d74-8f57-59a8c6dc6c52",
   "metadata": {},
   "outputs": [],
   "source": [
    "s3 = SavingsAccount(124,'Arjun',10000)"
   ]
  },
  {
   "cell_type": "code",
   "execution_count": 28,
   "id": "1a0762f3-2a35-4799-bd7c-7b24f31bf688",
   "metadata": {},
   "outputs": [
    {
     "data": {
      "text/plain": [
       "10000"
      ]
     },
     "execution_count": 28,
     "metadata": {},
     "output_type": "execute_result"
    }
   ],
   "source": [
    "s3.get_balance()"
   ]
  },
  {
   "cell_type": "code",
   "execution_count": 29,
   "id": "1a112510-b26b-456d-a396-bb6e8a556c28",
   "metadata": {},
   "outputs": [
    {
     "name": "stdout",
     "output_type": "stream",
     "text": [
      "Deposited500.0.New Balance = 10500.0\n",
      "Interest 500.0 added.\n"
     ]
    }
   ],
   "source": [
    "s3.add_interest()"
   ]
  },
  {
   "cell_type": "code",
   "execution_count": 30,
   "id": "c8275afd-1d00-44ea-8dc8-46bcce37147b",
   "metadata": {},
   "outputs": [
    {
     "data": {
      "text/plain": [
       "10500.0"
      ]
     },
     "execution_count": 30,
     "metadata": {},
     "output_type": "execute_result"
    }
   ],
   "source": [
    "s3.get_balance()"
   ]
  },
  {
   "cell_type": "markdown",
   "id": "97e90696-675d-44f2-9f4d-40a4ac9698ee",
   "metadata": {},
   "source": [
    "## Q4. Create a CurrentAccount for Priya with 2000 and withdraw 6000. Is it allowed? Why? \n",
    "- Hint: Current accounts allow overdrafts up to -5000. Check how withdraw() in \n",
    "CurrentAccount is different."
   ]
  },
  {
   "cell_type": "code",
   "execution_count": 31,
   "id": "9a9d13ef-e8d6-429d-a342-50863f83b5fd",
   "metadata": {},
   "outputs": [],
   "source": [
    "c1 = CurrentAccount(565,'Priya',2000)"
   ]
  },
  {
   "cell_type": "code",
   "execution_count": 32,
   "id": "11509e5d-a978-4411-9faa-f4898f265a51",
   "metadata": {},
   "outputs": [
    {
     "data": {
      "text/plain": [
       "2000"
      ]
     },
     "execution_count": 32,
     "metadata": {},
     "output_type": "execute_result"
    }
   ],
   "source": [
    "c1.get_balance()"
   ]
  },
  {
   "cell_type": "code",
   "execution_count": 33,
   "id": "b3901769-af5b-4f5e-ac80-99c3d58a9906",
   "metadata": {},
   "outputs": [
    {
     "name": "stdout",
     "output_type": "stream",
     "text": [
      "Invalid deposit amount\n",
      "Withdrawn 6000 using overdraft facility.\n"
     ]
    }
   ],
   "source": [
    "c1.withdraw(6000)"
   ]
  },
  {
   "cell_type": "markdown",
   "id": "e651dfec-72ab-494e-b535-401c375af0e6",
   "metadata": {},
   "source": [
    "## Q5. Try to directly access __balance of Meera’s account outside the class. What error do you get? \n",
    "- Hint: Remember that variables with __ (double underscores) are private and use name \n",
    "mangling."
   ]
  },
  {
   "cell_type": "code",
   "execution_count": 38,
   "id": "038a8b7c-1408-43fe-9bc9-8f6e8ead7bdd",
   "metadata": {},
   "outputs": [],
   "source": [
    "b1 = BankAccount(156,'Meera')"
   ]
  },
  {
   "cell_type": "code",
   "execution_count": 39,
   "id": "e4fad7e6-186a-407b-864b-00ab23a94ed3",
   "metadata": {},
   "outputs": [
    {
     "ename": "AttributeError",
     "evalue": "'BankAccount' object has no attribute '__balance'",
     "output_type": "error",
     "traceback": [
      "\u001b[1;31m---------------------------------------------------------------------------\u001b[0m",
      "\u001b[1;31mAttributeError\u001b[0m                            Traceback (most recent call last)",
      "Cell \u001b[1;32mIn[39], line 1\u001b[0m\n\u001b[1;32m----> 1\u001b[0m b1\u001b[38;5;241m.\u001b[39m__balance()\n",
      "\u001b[1;31mAttributeError\u001b[0m: 'BankAccount' object has no attribute '__balance'"
     ]
    }
   ],
   "source": [
    "b1.__balance()"
   ]
  },
  {
   "cell_type": "markdown",
   "id": "2d28305c-f79b-4336-9b1d-d20d2f696e2a",
   "metadata": {},
   "source": [
    "## Q6. Which OOPS concept is shown when withdraw() behaves differently for SavingsAccount (Ravi) and CurrentAccount (Priya)? \n",
    "- Hint: Same method name, different behavior → This is a classic OOPS principle. "
   ]
  },
  {
   "cell_type": "code",
   "execution_count": 6,
   "id": "6fc47755-de37-4ec7-a60c-cf1d9f67ceac",
   "metadata": {},
   "outputs": [
    {
     "name": "stdout",
     "output_type": "stream",
     "text": [
      "Withdrawn 500. New Balance = 1500\n"
     ]
    }
   ],
   "source": [
    "s1.withdraw(500)"
   ]
  },
  {
   "cell_type": "code",
   "execution_count": 36,
   "id": "e9a3ffee-ce89-44fd-a1a1-d1ac35fb193a",
   "metadata": {},
   "outputs": [
    {
     "name": "stdout",
     "output_type": "stream",
     "text": [
      "Invalid deposit amount\n",
      "Withdrawn 500 using overdraft facility.\n"
     ]
    }
   ],
   "source": [
    "c1.withdraw(500)"
   ]
  },
  {
   "cell_type": "code",
   "execution_count": null,
   "id": "51ca7802-d621-493b-86d8-26ede64f6a1f",
   "metadata": {},
   "outputs": [],
   "source": []
  }
 ],
 "metadata": {
  "kernelspec": {
   "display_name": "Python [conda env:Anaconda]",
   "language": "python",
   "name": "conda-env-Anaconda-py"
  },
  "language_info": {
   "codemirror_mode": {
    "name": "ipython",
    "version": 3
   },
   "file_extension": ".py",
   "mimetype": "text/x-python",
   "name": "python",
   "nbconvert_exporter": "python",
   "pygments_lexer": "ipython3",
   "version": "3.13.5"
  }
 },
 "nbformat": 4,
 "nbformat_minor": 5
}
